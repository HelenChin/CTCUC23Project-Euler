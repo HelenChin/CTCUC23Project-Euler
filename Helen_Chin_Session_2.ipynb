{
  "nbformat": 4,
  "nbformat_minor": 0,
  "metadata": {
    "colab": {
      "provenance": [],
      "include_colab_link": true
    },
    "kernelspec": {
      "name": "python3",
      "display_name": "Python 3"
    },
    "language_info": {
      "name": "python"
    }
  },
  "cells": [
    {
      "cell_type": "markdown",
      "metadata": {
        "id": "view-in-github",
        "colab_type": "text"
      },
      "source": [
        "<a href=\"https://colab.research.google.com/github/HelenChin/CTCUC23Project-Euler/blob/main/Helen_Chin_Session_2.ipynb\" target=\"_parent\"><img src=\"https://colab.research.google.com/assets/colab-badge.svg\" alt=\"Open In Colab\"/></a>"
      ]
    },
    {
      "cell_type": "markdown",
      "source": [
        "# Introduction to Python\n",
        "\n",
        "* comment\n",
        "* input and output\n",
        "* data types - int, float, str, bool\n",
        "* variables + assignment\n",
        "* operators - math/arithmetic, logical (and, or, not), comparison (==, !=, >, )\n",
        "* conditionals - if-else, nested\n",
        "* loops - for, while\n",
        "* functions\n"
      ],
      "metadata": {
        "id": "XNxQklfmkfCL"
      }
    },
    {
      "cell_type": "markdown",
      "source": [],
      "metadata": {
        "id": "wluKyfZwsB1g"
      }
    },
    {
      "cell_type": "markdown",
      "source": [
        "# programming style\n",
        "* meaningful identifier names\n",
        "* appropriate comments\n",
        "* appropriate use of white space (indentation, blank lines)\n",
        "\n",
        "\n",
        "\n"
      ],
      "metadata": {
        "id": "PSL70ADvrybJ"
      }
    },
    {
      "cell_type": "code",
      "source": [
        "# comment for user to understand the code\n",
        "\n",
        "# BMI calculator\n",
        "# to layout the logic if it is a multi steps solutions \n",
        "# input \n",
        "name = input(\"Enter your name: \") # str\n",
        "height = float(input(\"Enter your height (m): \")) # int\n",
        "weight = int(input(\"Enter your weight (kg): \")) # float\n",
        "\n",
        "# process \n",
        "BMI = weight / (height * height)\n",
        "\n",
        "# output\n",
        "print(\"your BMI is\",BMI)\n",
        "\n",
        "# condition\n",
        "if BMI < 18.5:\n",
        "  print(\"you are malnutrition\")\n",
        "elif 18.8 <= BMI < 22.9:\n",
        "  print(\"you are in healthy range\")\n",
        "elif 23 <= BMI > 27.5:\n",
        "      print(\"you are in moderate risk range\")\n",
        "else:\n",
        "  print(\"you are in high risk range\")\n",
        "\n"
      ],
      "metadata": {
        "colab": {
          "base_uri": "https://localhost:8080/"
        },
        "id": "5YrxjyZgq3jb",
        "outputId": "6c8c124f-0175-4f31-856e-6f905e8ef67d"
      },
      "execution_count": null,
      "outputs": [
        {
          "output_type": "stream",
          "name": "stdout",
          "text": [
            "Enter your name: l\n",
            "Enter your height (m): 1.2\n",
            "Enter your weight (kg): 80\n",
            "your BMI is 55.55555555555556\n",
            "you are in moderate risk range\n"
          ]
        }
      ]
    },
    {
      "cell_type": "code",
      "source": [],
      "metadata": {
        "id": "Xem5jo2Tr7ii"
      },
      "execution_count": null,
      "outputs": []
    },
    {
      "cell_type": "markdown",
      "source": [],
      "metadata": {
        "id": "dZrk_QhFr8Ee"
      }
    },
    {
      "cell_type": "code",
      "execution_count": null,
      "metadata": {
        "id": "hBA_5eHDSrIs",
        "colab": {
          "base_uri": "https://localhost:8080/"
        },
        "outputId": "807691c1-feac-4721-ee31-241cb07560b6"
      },
      "outputs": [
        {
          "output_type": "stream",
          "name": "stdout",
          "text": [
            "yo\n"
          ]
        }
      ],
      "source": [
        "print(\"yo\")\n",
        "a = 5"
      ]
    },
    {
      "cell_type": "code",
      "source": [
        "a = 3\n",
        "b = 3\n",
        "if a > b:\n",
        "  print(\"a bigger\")\n",
        "elif a < b:\n",
        "  print(\"a smaller\")\n",
        "else: # a == b\n",
        "  print(\"equal\")"
      ],
      "metadata": {
        "colab": {
          "base_uri": "https://localhost:8080/"
        },
        "id": "m51mrd2bxwRW",
        "outputId": "049fc112-b77c-4dbc-90d3-6acb922f52fd"
      },
      "execution_count": null,
      "outputs": [
        {
          "output_type": "stream",
          "name": "stdout",
          "text": [
            "equal\n"
          ]
        }
      ]
    },
    {
      "cell_type": "markdown",
      "source": [
        "# loops (in general)\n",
        "- for (fixed number of times)\n",
        "- while (0 or more times)\n",
        "- repeat until (not support in python) (at least once)\n"
      ],
      "metadata": {
        "id": "lDKaahIWzofk"
      }
    },
    {
      "cell_type": "code",
      "source": [
        "for i in range(5): # rang(0,5,1)\n",
        "  print(i)"
      ],
      "metadata": {
        "colab": {
          "base_uri": "https://localhost:8080/"
        },
        "id": "gNJMIpE8z4Yc",
        "outputId": "6cb57dfa-acc3-4cc7-c700-4944c750318d"
      },
      "execution_count": null,
      "outputs": [
        {
          "output_type": "stream",
          "name": "stdout",
          "text": [
            "0\n",
            "1\n",
            "2\n",
            "3\n",
            "4\n"
          ]
        }
      ]
    },
    {
      "cell_type": "code",
      "source": [
        "for i in range(1, 11, 2):\n",
        "  print(i)"
      ],
      "metadata": {
        "colab": {
          "base_uri": "https://localhost:8080/"
        },
        "id": "aFSYL7Oh1IsO",
        "outputId": "30d13557-0b8b-401f-c4a3-2db2b858498f"
      },
      "execution_count": null,
      "outputs": [
        {
          "output_type": "stream",
          "name": "stdout",
          "text": [
            "1\n",
            "3\n",
            "5\n",
            "7\n",
            "9\n"
          ]
        }
      ]
    },
    {
      "cell_type": "code",
      "source": [
        "for i in range(1, 11, 1):\n",
        "  if i % 2 == 1: # odd \n",
        "    print(i)"
      ],
      "metadata": {
        "colab": {
          "base_uri": "https://localhost:8080/"
        },
        "id": "hJYbcPEJ0jVY",
        "outputId": "59f75a00-c4f8-4062-a6d7-d79e5b94045d"
      },
      "execution_count": null,
      "outputs": [
        {
          "output_type": "stream",
          "name": "stdout",
          "text": [
            "1\n",
            "3\n",
            "5\n",
            "7\n",
            "9\n"
          ]
        }
      ]
    },
    {
      "cell_type": "code",
      "source": [
        "#\n",
        "name = \"tom\"\n",
        "for char in name:\n",
        "  print(char)"
      ],
      "metadata": {
        "colab": {
          "base_uri": "https://localhost:8080/"
        },
        "id": "-FWSjpx33c2i",
        "outputId": "12bab023-fc97-4be7-a000-63cafa825871"
      },
      "execution_count": null,
      "outputs": [
        {
          "output_type": "stream",
          "name": "stdout",
          "text": [
            "t\n",
            "o\n",
            "m\n"
          ]
        }
      ]
    },
    {
      "cell_type": "code",
      "source": [
        "i = 0\n",
        "while i < 5:\n",
        "  print(i)\n",
        "  i += 1"
      ],
      "metadata": {
        "colab": {
          "base_uri": "https://localhost:8080/"
        },
        "id": "sZRtrQUf44g-",
        "outputId": "88e762fe-d0ef-4bb2-f1cc-cb7cdeb1f3f1"
      },
      "execution_count": null,
      "outputs": [
        {
          "output_type": "stream",
          "name": "stdout",
          "text": [
            "0\n",
            "1\n",
            "2\n",
            "3\n",
            "4\n"
          ]
        }
      ]
    },
    {
      "cell_type": "markdown",
      "source": [
        "# Exercise \n",
        "\n",
        "Think of a first program involving input-process-output that you would use to introduce Python to your students. "
      ],
      "metadata": {
        "id": "yefbrgacmINB"
      }
    },
    {
      "cell_type": "code",
      "source": [
        "# to calculate the age based on current year\n",
        "current_year = int(input(\"Enter the current year (XXXX):\"))\n",
        "birth_year = int(input(\"Enter your birth year (XXXX):\"))\n",
        "age = current_year - birth_year\n",
        "print(\"You are\", age, \"years old\")"
      ],
      "metadata": {
        "colab": {
          "base_uri": "https://localhost:8080/"
        },
        "id": "ToUINqCq3TTS",
        "outputId": "6294be24-2a72-4f4a-b443-f4112f3839f2"
      },
      "execution_count": 68,
      "outputs": [
        {
          "output_type": "stream",
          "name": "stdout",
          "text": [
            "Enter the current year (XXXX):2022\n",
            "Enter your birth year (XXXX):1990\n",
            "You are 32 years old\n"
          ]
        }
      ]
    },
    {
      "cell_type": "code",
      "source": [],
      "metadata": {
        "id": "KwFchL3-3T-n"
      },
      "execution_count": null,
      "outputs": []
    },
    {
      "cell_type": "markdown",
      "source": [],
      "metadata": {
        "id": "wHP3UEEYznyE"
      }
    },
    {
      "cell_type": "code",
      "source": [
        "print(a)"
      ],
      "metadata": {
        "id": "gQwJwZsTmKNw",
        "colab": {
          "base_uri": "https://localhost:8080/"
        },
        "outputId": "f6a351a1-1c6b-42ea-b15f-05271efcbfad"
      },
      "execution_count": null,
      "outputs": [
        {
          "output_type": "stream",
          "name": "stdout",
          "text": [
            "5\n"
          ]
        }
      ]
    },
    {
      "cell_type": "code",
      "source": [
        "first_num = int(input(\"Enter a positive 1st whole numbers between 0 and 1000: \"))\n",
        "second_num = int(input(\"Enter a positive 2nd whole numbers between 0 and 1000: \"))\n",
        "if first_num > second_num:\n",
        "  result = first_num - second_num\n",
        "else:\n",
        "  result = second_num - first_num\n",
        "print(\"the difference is \", result)"
      ],
      "metadata": {
        "colab": {
          "base_uri": "https://localhost:8080/"
        },
        "id": "tEDWfNDEW4L_",
        "outputId": "9e145c6e-9e64-4a54-8438-7b5f37502f31"
      },
      "execution_count": null,
      "outputs": [
        {
          "output_type": "stream",
          "name": "stdout",
          "text": [
            "Enter a positive 1st whole numbers between 0 and 1000: 17\n",
            "Enter a positive 2nd whole numbers between 0 and 1000: 5\n",
            "12\n"
          ]
        }
      ]
    },
    {
      "cell_type": "code",
      "source": [
        "number = int(input(\"Enter a number: \"))\n",
        "if number > 50:\n",
        "  print(\"yes dream big\")\n",
        "else:\n",
        "  print(\"on the small side\")\n"
      ],
      "metadata": {
        "colab": {
          "base_uri": "https://localhost:8080/"
        },
        "id": "CzRAiRAkbxJ1",
        "outputId": "2d706a1b-947b-4ee9-fa43-816155be05d9"
      },
      "execution_count": null,
      "outputs": [
        {
          "output_type": "stream",
          "name": "stdout",
          "text": [
            "Enter a number10\n",
            "on the small side\n"
          ]
        }
      ]
    },
    {
      "cell_type": "code",
      "source": [
        "firstname = str(input(\"Enter first name:\"))\n",
        "if firstname == \"Ellie\":\n",
        "  position = 1\n",
        "\n",
        "secondname = str(input(\"Enter second name: \"))\n",
        "if secondname == \"Ellie\":\n",
        "  position = 2\n",
        "\n",
        "thirdname = str(input(\"Enter third name: \"))\n",
        "if thirdname == \"Ellie\":\n",
        "  position = 3\n",
        "\n",
        "fourthname = str(input(\"Enter fourth name: \"))\n",
        "if fourthname == \"Ellie\":\n",
        "  position = 4\n",
        "\n",
        "fifthname = str(input(\"Enter fifth name: \"))\n",
        "if fifthname == \"Ellie\":\n",
        "  position = 5\n",
        "print(position)"
      ],
      "metadata": {
        "colab": {
          "base_uri": "https://localhost:8080/"
        },
        "id": "B8oLk63YeAJI",
        "outputId": "142825d3-ed05-4ae1-e554-2251de4e78f4"
      },
      "execution_count": null,
      "outputs": [
        {
          "output_type": "stream",
          "name": "stdout",
          "text": [
            "Enter first name:k\n",
            "Enter second name: k\n",
            "Enter third name: Ellie\n",
            "Enter fourth name: j\n",
            "Enter fifth name: j\n",
            "3\n"
          ]
        }
      ]
    },
    {
      "cell_type": "markdown",
      "source": [
        "List\n",
        "- Python's name for arrays\n",
        "- organised collection of data where items are stored in contiguous locations in memory\n",
        "- operations: declare/initialise, insert, remove, update, traverse\n"
      ],
      "metadata": {
        "id": "UQ4zEftOsEAE"
      }
    },
    {
      "cell_type": "code",
      "source": [
        "# declare/initialise\n",
        "bmis  = []\n",
        "print(bmis)\n",
        "\n",
        "bmis = [20.5, 23.7, 16.2]\n",
        "print(bmis)\n",
        "\n",
        "rojak = [123, 3.14, \"tom\", True]\n",
        "print(rojak)"
      ],
      "metadata": {
        "id": "AIIlVkNMsbaB",
        "outputId": "c3887309-9713-4ef3-cd35-0b641d9f8312",
        "colab": {
          "base_uri": "https://localhost:8080/"
        }
      },
      "execution_count": 74,
      "outputs": [
        {
          "output_type": "stream",
          "name": "stdout",
          "text": [
            "[]\n",
            "[20.5, 23.7, 16.2]\n",
            "[123, 3.14, 'tom', True]\n"
          ]
        }
      ]
    },
    {
      "cell_type": "code",
      "source": [
        "for i in range(len(bmis)):\n",
        "  print(bmis[i])\n",
        "  "
      ],
      "metadata": {
        "id": "u5DVzrbQtdb8",
        "outputId": "8ba154ee-4aef-4b6c-dfba-868eae4a89ad",
        "colab": {
          "base_uri": "https://localhost:8080/"
        }
      },
      "execution_count": 72,
      "outputs": [
        {
          "output_type": "stream",
          "name": "stdout",
          "text": [
            "20.5\n",
            "23.7\n",
            "16.2\n"
          ]
        }
      ]
    },
    {
      "cell_type": "code",
      "source": [
        "bmis[0]\n"
      ],
      "metadata": {
        "id": "9ha9PZy6txIe",
        "outputId": "49e56ca2-8c3f-4fe9-fab9-53f28b99cc0a",
        "colab": {
          "base_uri": "https://localhost:8080/"
        }
      },
      "execution_count": 73,
      "outputs": [
        {
          "output_type": "execute_result",
          "data": {
            "text/plain": [
              "20.5"
            ]
          },
          "metadata": {},
          "execution_count": 73
        }
      ]
    },
    {
      "cell_type": "code",
      "source": [
        "print(bmis[2])\n",
        "print(bmis[len(bmis)-1])\n",
        "print(bmis[-1])\n"
      ],
      "metadata": {
        "id": "4e4Zqm4Rt2nE",
        "outputId": "52af04e4-ba7b-4234-a28b-af24db078111",
        "colab": {
          "base_uri": "https://localhost:8080/"
        }
      },
      "execution_count": 75,
      "outputs": [
        {
          "output_type": "stream",
          "name": "stdout",
          "text": [
            "16.2\n",
            "16.2\n",
            "16.2\n"
          ]
        }
      ]
    },
    {
      "cell_type": "code",
      "source": [
        "# slicing operation\n",
        "print(bmis[1:len(bmis)]) # bmis[1:3]\n",
        "print(bmis[1:])\n",
        "print(bmis[1:2])\n",
        "print(bmis[1:3])"
      ],
      "metadata": {
        "id": "z-VP5qT3uSCc",
        "outputId": "9e5b633a-d9cd-41f9-81aa-aad9a70b0138",
        "colab": {
          "base_uri": "https://localhost:8080/"
        }
      },
      "execution_count": 82,
      "outputs": [
        {
          "output_type": "stream",
          "name": "stdout",
          "text": [
            "[23.7, 16.2]\n",
            "[23.7, 16.2]\n",
            "[23.7]\n",
            "[23.7, 16.2]\n"
          ]
        }
      ]
    },
    {
      "cell_type": "code",
      "source": [
        "print(bmis[0:2])\n",
        "print(bmis[:2])\n"
      ],
      "metadata": {
        "id": "PgCIFCtxvCpK",
        "outputId": "6cf02db1-af5f-4bfd-e5ef-b913dcf12f7a",
        "colab": {
          "base_uri": "https://localhost:8080/"
        }
      },
      "execution_count": 86,
      "outputs": [
        {
          "output_type": "stream",
          "name": "stdout",
          "text": [
            "[20.5, 23.7]\n",
            "[20.5, 23.7]\n"
          ]
        }
      ]
    }
  ]
}