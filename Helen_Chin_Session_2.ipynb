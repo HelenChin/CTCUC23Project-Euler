{
  "nbformat": 4,
  "nbformat_minor": 0,
  "metadata": {
    "colab": {
      "provenance": [],
      "include_colab_link": true
    },
    "kernelspec": {
      "name": "python3",
      "display_name": "Python 3"
    },
    "language_info": {
      "name": "python"
    }
  },
  "cells": [
    {
      "cell_type": "markdown",
      "metadata": {
        "id": "view-in-github",
        "colab_type": "text"
      },
      "source": [
        "<a href=\"https://colab.research.google.com/github/HelenChin/CTCUC23Project-Euler/blob/main/Helen_Chin_Session_2.ipynb\" target=\"_parent\"><img src=\"https://colab.research.google.com/assets/colab-badge.svg\" alt=\"Open In Colab\"/></a>"
      ]
    },
    {
      "cell_type": "markdown",
      "source": [
        "# Introduction to Python\n",
        "\n",
        "* comment\n",
        "* input and output\n",
        "* data types - int, float, str, bool\n",
        "* variables + assignment\n",
        "* operators - math/arithmetic, logical (and, or, not), comparison (==, !=, >, )\n",
        "* conditionals - if-else, nested\n",
        "* loops - for, while\n",
        "* functions\n"
      ],
      "metadata": {
        "id": "XNxQklfmkfCL"
      }
    },
    {
      "cell_type": "markdown",
      "source": [
        "# programming style\n",
        "* meaningful identifier names\n",
        "* appropriate comments\n",
        "* appropriate use of white space (indentation, blank lines)\n",
        "\n",
        "\n",
        "\n"
      ],
      "metadata": {
        "id": "PSL70ADvrybJ"
      }
    },
    {
      "cell_type": "code",
      "source": [
        "# comment for user to understand the code\n",
        "\n",
        "# BMI calculator\n",
        "# to layout the logic if it is a multi steps solutions \n",
        "# input \n",
        "name = input(\"Enter your name: \") # str\n",
        "height = float(input(\"Enter your height (m): \")) # int\n",
        "weight = int(input(\"Enter your weight (kg): \")) # float\n",
        "\n",
        "# process \n",
        "BMI = weight / (height * height)\n",
        "\n",
        "# output\n",
        "print(\"your BMI is\",BMI)\n",
        "\n",
        "# condition\n",
        "if BMI < 18.5:\n",
        "  print(\"you are malnutrition\")\n",
        "elif 18.8 <= BMI < 22.9:\n",
        "  print(\"you are in healthy range\")\n",
        "elif 23 <= BMI > 27.5:\n",
        "      print(\"you are in moderate risk range\")\n",
        "else:\n",
        "  print(\"you are in high risk range\")\n",
        "\n"
      ],
      "metadata": {
        "colab": {
          "base_uri": "https://localhost:8080/"
        },
        "id": "5YrxjyZgq3jb",
        "outputId": "6c8c124f-0175-4f31-856e-6f905e8ef67d"
      },
      "execution_count": 19,
      "outputs": [
        {
          "output_type": "stream",
          "name": "stdout",
          "text": [
            "Enter your name: l\n",
            "Enter your height (m): 1.2\n",
            "Enter your weight (kg): 80\n",
            "your BMI is 55.55555555555556\n",
            "you are in moderate risk range\n"
          ]
        }
      ]
    },
    {
      "cell_type": "code",
      "source": [],
      "metadata": {
        "id": "Xem5jo2Tr7ii"
      },
      "execution_count": null,
      "outputs": []
    },
    {
      "cell_type": "markdown",
      "source": [],
      "metadata": {
        "id": "dZrk_QhFr8Ee"
      }
    },
    {
      "cell_type": "code",
      "execution_count": 2,
      "metadata": {
        "id": "hBA_5eHDSrIs",
        "colab": {
          "base_uri": "https://localhost:8080/"
        },
        "outputId": "807691c1-feac-4721-ee31-241cb07560b6"
      },
      "outputs": [
        {
          "output_type": "stream",
          "name": "stdout",
          "text": [
            "yo\n"
          ]
        }
      ],
      "source": [
        "print(\"yo\")\n",
        "a = 5"
      ]
    },
    {
      "cell_type": "code",
      "source": [
        "a = 3\n",
        "b = 3\n",
        "if a > b:\n",
        "  print(\"a bigger\")\n",
        "elif a < b:\n",
        "  print(\"a smaller\")\n",
        "else: # a == b\n",
        "  print(\"equal\")"
      ],
      "metadata": {
        "colab": {
          "base_uri": "https://localhost:8080/"
        },
        "id": "m51mrd2bxwRW",
        "outputId": "049fc112-b77c-4dbc-90d3-6acb922f52fd"
      },
      "execution_count": 22,
      "outputs": [
        {
          "output_type": "stream",
          "name": "stdout",
          "text": [
            "equal\n"
          ]
        }
      ]
    },
    {
      "cell_type": "markdown",
      "source": [
        "# loops (in general)\n",
        "- for (fixed number of times)\n",
        "- while (0 or more times)\n",
        "- repeat until (not support in python) (at least once)\n"
      ],
      "metadata": {
        "id": "lDKaahIWzofk"
      }
    },
    {
      "cell_type": "code",
      "source": [
        "for i in range(5): # rang(0,5,1)\n",
        "  print(i)"
      ],
      "metadata": {
        "colab": {
          "base_uri": "https://localhost:8080/"
        },
        "id": "gNJMIpE8z4Yc",
        "outputId": "6cb57dfa-acc3-4cc7-c700-4944c750318d"
      },
      "execution_count": 26,
      "outputs": [
        {
          "output_type": "stream",
          "name": "stdout",
          "text": [
            "0\n",
            "1\n",
            "2\n",
            "3\n",
            "4\n"
          ]
        }
      ]
    },
    {
      "cell_type": "code",
      "source": [
        "for i in range(1, 11, 2):\n",
        "  print(i)"
      ],
      "metadata": {
        "colab": {
          "base_uri": "https://localhost:8080/"
        },
        "id": "aFSYL7Oh1IsO",
        "outputId": "30d13557-0b8b-401f-c4a3-2db2b858498f"
      },
      "execution_count": 32,
      "outputs": [
        {
          "output_type": "stream",
          "name": "stdout",
          "text": [
            "1\n",
            "3\n",
            "5\n",
            "7\n",
            "9\n"
          ]
        }
      ]
    },
    {
      "cell_type": "code",
      "source": [
        "for i in range(1, 11, 1):\n",
        "  if i % 2 == 1: # odd \n",
        "    print(i)"
      ],
      "metadata": {
        "colab": {
          "base_uri": "https://localhost:8080/"
        },
        "id": "hJYbcPEJ0jVY",
        "outputId": "59f75a00-c4f8-4062-a6d7-d79e5b94045d"
      },
      "execution_count": 31,
      "outputs": [
        {
          "output_type": "stream",
          "name": "stdout",
          "text": [
            "1\n",
            "3\n",
            "5\n",
            "7\n",
            "9\n"
          ]
        }
      ]
    },
    {
      "cell_type": "code",
      "source": [
        "#\n",
        "name = \"tom\"\n",
        "for char in name:\n",
        "  print(char)"
      ],
      "metadata": {
        "colab": {
          "base_uri": "https://localhost:8080/"
        },
        "id": "-FWSjpx33c2i",
        "outputId": "12bab023-fc97-4be7-a000-63cafa825871"
      },
      "execution_count": 35,
      "outputs": [
        {
          "output_type": "stream",
          "name": "stdout",
          "text": [
            "t\n",
            "o\n",
            "m\n"
          ]
        }
      ]
    },
    {
      "cell_type": "code",
      "source": [
        "i = 0\n",
        "while i < 5:\n",
        "  print(i)\n",
        "  i += 1"
      ],
      "metadata": {
        "colab": {
          "base_uri": "https://localhost:8080/"
        },
        "id": "sZRtrQUf44g-",
        "outputId": "88e762fe-d0ef-4bb2-f1cc-cb7cdeb1f3f1"
      },
      "execution_count": 46,
      "outputs": [
        {
          "output_type": "stream",
          "name": "stdout",
          "text": [
            "0\n",
            "1\n",
            "2\n",
            "3\n",
            "4\n"
          ]
        }
      ]
    },
    {
      "cell_type": "markdown",
      "source": [
        "# Exercise \n",
        "\n",
        "Think of a first program involving input-process-output that you would use to introduce Python to your students. "
      ],
      "metadata": {
        "id": "yefbrgacmINB"
      }
    },
    {
      "cell_type": "code",
      "source": [
        "# to calculate the age based on current year\n",
        "current_year = int(input(\"Enter the current year (XXXX):\"))\n",
        "birth_year = int(input(\"Enter your birth year (XXXX):\"))\n",
        "age = current_year - birth_year\n",
        "print(\"You are\", age, \"years old\")"
      ],
      "metadata": {
        "colab": {
          "base_uri": "https://localhost:8080/"
        },
        "id": "ToUINqCq3TTS",
        "outputId": "93053b60-2ef1-4d09-df95-cf970f8f008d"
      },
      "execution_count": 45,
      "outputs": [
        {
          "output_type": "stream",
          "name": "stdout",
          "text": [
            "Enter the current year (XXXX):2022\n",
            "Enter your birth year (XXXX):1990\n",
            "You are 32 years old\n"
          ]
        }
      ]
    },
    {
      "cell_type": "code",
      "source": [],
      "metadata": {
        "id": "KwFchL3-3T-n"
      },
      "execution_count": null,
      "outputs": []
    },
    {
      "cell_type": "markdown",
      "source": [],
      "metadata": {
        "id": "wHP3UEEYznyE"
      }
    },
    {
      "cell_type": "code",
      "source": [
        "print(a)"
      ],
      "metadata": {
        "id": "gQwJwZsTmKNw",
        "colab": {
          "base_uri": "https://localhost:8080/"
        },
        "outputId": "f6a351a1-1c6b-42ea-b15f-05271efcbfad"
      },
      "execution_count": 3,
      "outputs": [
        {
          "output_type": "stream",
          "name": "stdout",
          "text": [
            "5\n"
          ]
        }
      ]
    }
  ]
}