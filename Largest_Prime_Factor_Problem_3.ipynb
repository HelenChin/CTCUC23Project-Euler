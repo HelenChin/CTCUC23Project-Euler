{
  "nbformat": 4,
  "nbformat_minor": 0,
  "metadata": {
    "colab": {
      "provenance": [],
      "authorship_tag": "ABX9TyPa3SnwVq5e71k9h/Y8/DZp",
      "include_colab_link": true
    },
    "kernelspec": {
      "name": "python3",
      "display_name": "Python 3"
    },
    "language_info": {
      "name": "python"
    }
  },
  "cells": [
    {
      "cell_type": "markdown",
      "metadata": {
        "id": "view-in-github",
        "colab_type": "text"
      },
      "source": [
        "<a href=\"https://colab.research.google.com/github/HelenChin/CTCUC23Project-Euler/blob/main/Largest_Prime_Factor_Problem_3.ipynb\" target=\"_parent\"><img src=\"https://colab.research.google.com/assets/colab-badge.svg\" alt=\"Open In Colab\"/></a>"
      ]
    },
    {
      "cell_type": "code",
      "execution_count": 3,
      "metadata": {
        "colab": {
          "base_uri": "https://localhost:8080/"
        },
        "id": "daPYnobOWw88",
        "outputId": "4826fe89-c31e-445b-c04a-9f333187f17e"
      },
      "outputs": [
        {
          "output_type": "stream",
          "name": "stdout",
          "text": [
            "6857\n"
          ]
        }
      ],
      "source": [
        "# reference chatgpt\n",
        "# Largest prime factor Problem 3\n",
        "# The prime factors of 13195 are 5, 7, 13 and 29.\n",
        "# What is the largest prime factor of the number 600851475143 ?\n",
        "\n",
        "def largest_prime_factor(n):\n",
        "  i = 2\n",
        "  while i * i <=n:\n",
        "    if n % i:\n",
        "      i += 1\n",
        "    else:\n",
        "      n //= i\n",
        "  return n\n",
        "\n",
        "print(largest_prime_factor(600851475143))\n",
        "\n"
      ]
    }
  ]
}