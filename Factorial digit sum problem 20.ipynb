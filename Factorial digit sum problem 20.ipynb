{
  "nbformat": 4,
  "nbformat_minor": 0,
  "metadata": {
    "colab": {
      "provenance": [],
      "authorship_tag": "ABX9TyMcT5DoNGIRphhCRBCfeL9w",
      "include_colab_link": true
    },
    "kernelspec": {
      "name": "python3",
      "display_name": "Python 3"
    },
    "language_info": {
      "name": "python"
    }
  },
  "cells": [
    {
      "cell_type": "markdown",
      "metadata": {
        "id": "view-in-github",
        "colab_type": "text"
      },
      "source": [
        "<a href=\"https://colab.research.google.com/github/HelenChin/CTCUC23Project-Euler/blob/main/Factorial%20digit%20sum%20problem%2020.ipynb\" target=\"_parent\"><img src=\"https://colab.research.google.com/assets/colab-badge.svg\" alt=\"Open In Colab\"/></a>"
      ]
    },
    {
      "cell_type": "code",
      "execution_count": null,
      "metadata": {
        "colab": {
          "base_uri": "https://localhost:8080/"
        },
        "id": "VKlkLpAQNrZg",
        "outputId": "7fdd0de6-28a2-4577-eee2-46632a866669"
      },
      "outputs": [
        {
          "output_type": "stream",
          "name": "stdout",
          "text": [
            "648\n"
          ]
        }
      ],
      "source": [
        "# reference from opengpt\n",
        "# Factorial digit sum Problem 20\n",
        "# n! means n × (n − 1) × ... × 3 × 2 × 1\n",
        "# For example, 10! = 10 × 9 × ... × 3 × 2 × 1 = 3628800,\n",
        "# and the sum of the digits in the number 10! is 3 + 6 + 2 + 8 + 8 + 0 + 0 = 27.\n",
        "# Find the sum of the digits in the number 100!\n",
        "\n",
        "import math\n",
        "def fact_digits_sum(n):\n",
        "  fact = math.factorial(n)\n",
        "  return sum(int(i) for i in str(fact))\n",
        "\n",
        "\n",
        "print(fact_digits_sum(100))"
      ]
    }
  ]
}